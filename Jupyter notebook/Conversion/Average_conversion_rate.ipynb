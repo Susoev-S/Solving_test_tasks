{
 "cells": [
  {
   "cell_type": "code",
   "execution_count": 2,
   "id": "49aade86-571a-4af1-933d-42761f883e18",
   "metadata": {},
   "outputs": [],
   "source": [
    "import pandas as pd"
   ]
  },
  {
   "cell_type": "markdown",
   "id": "eff0a747-f283-495e-a25b-1939cbe6841d",
   "metadata": {},
   "source": [
    "## Загрузка и подготовка данных"
   ]
  },
  {
   "cell_type": "code",
   "execution_count": 3,
   "id": "64457a18-319a-4234-99a1-0ebd903b44a5",
   "metadata": {},
   "outputs": [],
   "source": [
    "# Путь к исходным данным\n",
    "file_path = '/run/media/sergey/Archive_records/Disk_D/Data_analytics/ТЕСТОВЫЕ/01 585 Ювелирка Excel/Тестовое.csv'"
   ]
  },
  {
   "cell_type": "code",
   "execution_count": 4,
   "id": "cd8075e9-d2ee-4b1f-8482-6c320c7be096",
   "metadata": {},
   "outputs": [],
   "source": [
    "# Чтение датайфрейма\n",
    "df_shops = pd.read_csv(\n",
    "    filepath_or_buffer=file_path,                                        # путь к файлу\n",
    "    skiprows=1,                                                          # игнорирование строки с русскими названиями колонок\n",
    "    encoding='utf-8',                                                    # кодировка \n",
    "    sep=',',                                                             # разделитель столбцов\n",
    "    names=['period', 'shops_code', 'town', 'incoming_people', 'buyers'], # новые имена колонок\n",
    "    converters={'incoming_people': lambda x: int(x.replace(',', '')),    # исключение разделительной запятой, и указание типа данных\n",
    "                'buyers': lambda x: int(x.replace(',', ''))\n",
    "               },\n",
    "    dtype={'period': 'int',                                              # явное указание типов данных\n",
    "           'shops_code': 'string', \n",
    "           'town': 'string'},\n",
    ")"
   ]
  },
  {
   "cell_type": "code",
   "execution_count": 5,
   "id": "6f28bc59-ddc5-475d-b38f-e761a29995ef",
   "metadata": {},
   "outputs": [
    {
     "data": {
      "text/plain": [
       "period                      int64\n",
       "shops_code         string[python]\n",
       "town               string[python]\n",
       "incoming_people             int64\n",
       "buyers                      int64\n",
       "dtype: object"
      ]
     },
     "execution_count": 5,
     "metadata": {},
     "output_type": "execute_result"
    }
   ],
   "source": [
    "df_shops.dtypes"
   ]
  },
  {
   "cell_type": "code",
   "execution_count": 6,
   "id": "01d07f7b-0206-440c-bc9c-f7de2743c747",
   "metadata": {},
   "outputs": [
    {
     "data": {
      "text/html": [
       "<div>\n",
       "<style scoped>\n",
       "    .dataframe tbody tr th:only-of-type {\n",
       "        vertical-align: middle;\n",
       "    }\n",
       "\n",
       "    .dataframe tbody tr th {\n",
       "        vertical-align: top;\n",
       "    }\n",
       "\n",
       "    .dataframe thead th {\n",
       "        text-align: right;\n",
       "    }\n",
       "</style>\n",
       "<table border=\"1\" class=\"dataframe\">\n",
       "  <thead>\n",
       "    <tr style=\"text-align: right;\">\n",
       "      <th></th>\n",
       "      <th>period</th>\n",
       "      <th>shops_code</th>\n",
       "      <th>town</th>\n",
       "      <th>incoming_people</th>\n",
       "      <th>buyers</th>\n",
       "    </tr>\n",
       "  </thead>\n",
       "  <tbody>\n",
       "    <tr>\n",
       "      <th>0</th>\n",
       "      <td>1</td>\n",
       "      <td>1-01-145</td>\n",
       "      <td>Боровичи</td>\n",
       "      <td>3560</td>\n",
       "      <td>483</td>\n",
       "    </tr>\n",
       "    <tr>\n",
       "      <th>1</th>\n",
       "      <td>1</td>\n",
       "      <td>1-01-212</td>\n",
       "      <td>Великий Новгород</td>\n",
       "      <td>0</td>\n",
       "      <td>95</td>\n",
       "    </tr>\n",
       "    <tr>\n",
       "      <th>2</th>\n",
       "      <td>1</td>\n",
       "      <td>1-01-189</td>\n",
       "      <td>Великий Новгород</td>\n",
       "      <td>1896</td>\n",
       "      <td>237</td>\n",
       "    </tr>\n",
       "    <tr>\n",
       "      <th>3</th>\n",
       "      <td>1</td>\n",
       "      <td>1-01-228</td>\n",
       "      <td>Великий Новгород</td>\n",
       "      <td>3329</td>\n",
       "      <td>511</td>\n",
       "    </tr>\n",
       "    <tr>\n",
       "      <th>4</th>\n",
       "      <td>1</td>\n",
       "      <td>1-01-232</td>\n",
       "      <td>Великий Новгород</td>\n",
       "      <td>9837</td>\n",
       "      <td>975</td>\n",
       "    </tr>\n",
       "  </tbody>\n",
       "</table>\n",
       "</div>"
      ],
      "text/plain": [
       "   period shops_code              town  incoming_people  buyers\n",
       "0       1   1-01-145          Боровичи             3560     483\n",
       "1       1   1-01-212  Великий Новгород                0      95\n",
       "2       1   1-01-189  Великий Новгород             1896     237\n",
       "3       1   1-01-228  Великий Новгород             3329     511\n",
       "4       1   1-01-232  Великий Новгород             9837     975"
      ]
     },
     "execution_count": 6,
     "metadata": {},
     "output_type": "execute_result"
    }
   ],
   "source": [
    "df_shops.head()\t"
   ]
  },
  {
   "cell_type": "markdown",
   "id": "83c8cbc4-c9e7-4722-a0ed-c6fcd44fb1ab",
   "metadata": {},
   "source": [
    "## Фильтрация данных"
   ]
  },
  {
   "cell_type": "markdown",
   "id": "fa8908e1-ca0d-40b7-9977-081c3fd7373f",
   "metadata": {},
   "source": [
    "### Вычисление магазинов только из Санкт-Петербурга."
   ]
  },
  {
   "cell_type": "code",
   "execution_count": 7,
   "id": "d8c0af8f-f4ee-43b6-9042-922dc7ce272f",
   "metadata": {},
   "outputs": [
    {
     "data": {
      "text/plain": [
       "<StringArray>\n",
       "[        'Боровичи', 'Великий Новгород',           'Чудово',\n",
       "     'Великие Луки',            'Псков',          'Вологда',\n",
       "            'Сокол',        'Череповец',   'Вышний Волочек',\n",
       "             'Ржев',            'Тверь',        'Приозерск',\n",
       "  'Санкт-Петербург',           'Выборг',        'Кронштадт',\n",
       "     'Сосновый Бор',          'Гатчина',           'Волхов',\n",
       "     'Петрозаводск',           'Тихвин',           'Кириши',\n",
       "       'Никольское',            'Тосно',        'Кингисепп',\n",
       "  'Новое Девяткино',           'Сланцы',       'Всеволожск',\n",
       "          'Кировск',         'Отрадное',      'Калининград',\n",
       "          'Коряжма',           'Котлас',       'Нарьян-Мар',\n",
       "        'Сыктывкар',          'Воркута',           'Усинск',\n",
       "             'Ухта',          'Апатиты',       'Кандалакша',\n",
       "       'Мончегорск',         'Мурманск',      'Североморск',\n",
       "      'Архангельск',           'Мирный',     'Северодвинск']\n",
       "Length: 45, dtype: string"
      ]
     },
     "execution_count": 7,
     "metadata": {},
     "output_type": "execute_result"
    }
   ],
   "source": [
    "df_shops.town.unique()"
   ]
  },
  {
   "cell_type": "markdown",
   "id": "d8c07f71-f06e-4c50-adf1-bd0ecc5f09d2",
   "metadata": {},
   "source": [
    "Видно, город Санкт-Петербург числится под одним названием \"Санкт-Петербург\". Исходя из этого и отфильтруем данные."
   ]
  },
  {
   "cell_type": "code",
   "execution_count": 8,
   "id": "8e754ed9-cae1-4f01-a8eb-d15e91430280",
   "metadata": {},
   "outputs": [
    {
     "data": {
      "text/html": [
       "<div>\n",
       "<style scoped>\n",
       "    .dataframe tbody tr th:only-of-type {\n",
       "        vertical-align: middle;\n",
       "    }\n",
       "\n",
       "    .dataframe tbody tr th {\n",
       "        vertical-align: top;\n",
       "    }\n",
       "\n",
       "    .dataframe thead th {\n",
       "        text-align: right;\n",
       "    }\n",
       "</style>\n",
       "<table border=\"1\" class=\"dataframe\">\n",
       "  <thead>\n",
       "    <tr style=\"text-align: right;\">\n",
       "      <th></th>\n",
       "      <th>period</th>\n",
       "      <th>shops_code</th>\n",
       "      <th>town</th>\n",
       "      <th>incoming_people</th>\n",
       "      <th>buyers</th>\n",
       "    </tr>\n",
       "  </thead>\n",
       "  <tbody>\n",
       "    <tr>\n",
       "      <th>23</th>\n",
       "      <td>1</td>\n",
       "      <td>1-01-107</td>\n",
       "      <td>Санкт-Петербург</td>\n",
       "      <td>5001</td>\n",
       "      <td>576</td>\n",
       "    </tr>\n",
       "    <tr>\n",
       "      <th>24</th>\n",
       "      <td>1</td>\n",
       "      <td>1-01-267</td>\n",
       "      <td>Санкт-Петербург</td>\n",
       "      <td>9072</td>\n",
       "      <td>773</td>\n",
       "    </tr>\n",
       "    <tr>\n",
       "      <th>25</th>\n",
       "      <td>1</td>\n",
       "      <td>1-01-269</td>\n",
       "      <td>Санкт-Петербург</td>\n",
       "      <td>2152</td>\n",
       "      <td>116</td>\n",
       "    </tr>\n",
       "    <tr>\n",
       "      <th>26</th>\n",
       "      <td>1</td>\n",
       "      <td>1-01-126</td>\n",
       "      <td>Санкт-Петербург</td>\n",
       "      <td>7264</td>\n",
       "      <td>939</td>\n",
       "    </tr>\n",
       "    <tr>\n",
       "      <th>27</th>\n",
       "      <td>1</td>\n",
       "      <td>1-01-250</td>\n",
       "      <td>Санкт-Петербург</td>\n",
       "      <td>7793</td>\n",
       "      <td>1061</td>\n",
       "    </tr>\n",
       "    <tr>\n",
       "      <th>...</th>\n",
       "      <td>...</td>\n",
       "      <td>...</td>\n",
       "      <td>...</td>\n",
       "      <td>...</td>\n",
       "      <td>...</td>\n",
       "    </tr>\n",
       "    <tr>\n",
       "      <th>216</th>\n",
       "      <td>2</td>\n",
       "      <td>1-01-223</td>\n",
       "      <td>Санкт-Петербург</td>\n",
       "      <td>2339</td>\n",
       "      <td>197</td>\n",
       "    </tr>\n",
       "    <tr>\n",
       "      <th>222</th>\n",
       "      <td>2</td>\n",
       "      <td>1-01-251</td>\n",
       "      <td>Санкт-Петербург</td>\n",
       "      <td>4672</td>\n",
       "      <td>478</td>\n",
       "    </tr>\n",
       "    <tr>\n",
       "      <th>223</th>\n",
       "      <td>2</td>\n",
       "      <td>1-01-162</td>\n",
       "      <td>Санкт-Петербург</td>\n",
       "      <td>2586</td>\n",
       "      <td>182</td>\n",
       "    </tr>\n",
       "    <tr>\n",
       "      <th>224</th>\n",
       "      <td>2</td>\n",
       "      <td>1-01-154</td>\n",
       "      <td>Санкт-Петербург</td>\n",
       "      <td>4144</td>\n",
       "      <td>331</td>\n",
       "    </tr>\n",
       "    <tr>\n",
       "      <th>225</th>\n",
       "      <td>2</td>\n",
       "      <td>1-01-275</td>\n",
       "      <td>Санкт-Петербург</td>\n",
       "      <td>0</td>\n",
       "      <td>507</td>\n",
       "    </tr>\n",
       "  </tbody>\n",
       "</table>\n",
       "<p>105 rows × 5 columns</p>\n",
       "</div>"
      ],
      "text/plain": [
       "     period shops_code             town  incoming_people  buyers\n",
       "23        1   1-01-107  Санкт-Петербург             5001     576\n",
       "24        1   1-01-267  Санкт-Петербург             9072     773\n",
       "25        1   1-01-269  Санкт-Петербург             2152     116\n",
       "26        1   1-01-126  Санкт-Петербург             7264     939\n",
       "27        1   1-01-250  Санкт-Петербург             7793    1061\n",
       "..      ...        ...              ...              ...     ...\n",
       "216       2   1-01-223  Санкт-Петербург             2339     197\n",
       "222       2   1-01-251  Санкт-Петербург             4672     478\n",
       "223       2   1-01-162  Санкт-Петербург             2586     182\n",
       "224       2   1-01-154  Санкт-Петербург             4144     331\n",
       "225       2   1-01-275  Санкт-Петербург                0     507\n",
       "\n",
       "[105 rows x 5 columns]"
      ]
     },
     "execution_count": 8,
     "metadata": {},
     "output_type": "execute_result"
    }
   ],
   "source": [
    "df_shops_SPb = df_shops[df_shops.town == 'Санкт-Петербург']\n",
    "df_shops_SPb"
   ]
  },
  {
   "cell_type": "markdown",
   "id": "224dec7a-1fce-4c4f-9d2c-f2d016f18d99",
   "metadata": {},
   "source": [
    "## Поиск аномалий в данных."
   ]
  },
  {
   "cell_type": "markdown",
   "id": "dd7ab86e-c2de-4c96-9879-3ad44701dbce",
   "metadata": {},
   "source": [
    "Давайте взглянем на данные глазами."
   ]
  },
  {
   "cell_type": "code",
   "execution_count": 9,
   "id": "2fdcc958-6076-4cfa-80e4-f8806a8610f5",
   "metadata": {},
   "outputs": [
    {
     "data": {
      "text/html": [
       "<div>\n",
       "<style scoped>\n",
       "    .dataframe tbody tr th:only-of-type {\n",
       "        vertical-align: middle;\n",
       "    }\n",
       "\n",
       "    .dataframe tbody tr th {\n",
       "        vertical-align: top;\n",
       "    }\n",
       "\n",
       "    .dataframe thead th {\n",
       "        text-align: right;\n",
       "    }\n",
       "</style>\n",
       "<table border=\"1\" class=\"dataframe\">\n",
       "  <thead>\n",
       "    <tr style=\"text-align: right;\">\n",
       "      <th></th>\n",
       "      <th>period</th>\n",
       "      <th>shops_code</th>\n",
       "      <th>town</th>\n",
       "      <th>incoming_people</th>\n",
       "      <th>buyers</th>\n",
       "    </tr>\n",
       "  </thead>\n",
       "  <tbody>\n",
       "    <tr>\n",
       "      <th>23</th>\n",
       "      <td>1</td>\n",
       "      <td>1-01-107</td>\n",
       "      <td>Санкт-Петербург</td>\n",
       "      <td>5001</td>\n",
       "      <td>576</td>\n",
       "    </tr>\n",
       "    <tr>\n",
       "      <th>24</th>\n",
       "      <td>1</td>\n",
       "      <td>1-01-267</td>\n",
       "      <td>Санкт-Петербург</td>\n",
       "      <td>9072</td>\n",
       "      <td>773</td>\n",
       "    </tr>\n",
       "    <tr>\n",
       "      <th>25</th>\n",
       "      <td>1</td>\n",
       "      <td>1-01-269</td>\n",
       "      <td>Санкт-Петербург</td>\n",
       "      <td>2152</td>\n",
       "      <td>116</td>\n",
       "    </tr>\n",
       "    <tr>\n",
       "      <th>26</th>\n",
       "      <td>1</td>\n",
       "      <td>1-01-126</td>\n",
       "      <td>Санкт-Петербург</td>\n",
       "      <td>7264</td>\n",
       "      <td>939</td>\n",
       "    </tr>\n",
       "    <tr>\n",
       "      <th>27</th>\n",
       "      <td>1</td>\n",
       "      <td>1-01-250</td>\n",
       "      <td>Санкт-Петербург</td>\n",
       "      <td>7793</td>\n",
       "      <td>1061</td>\n",
       "    </tr>\n",
       "    <tr>\n",
       "      <th>28</th>\n",
       "      <td>1</td>\n",
       "      <td>1-01-236</td>\n",
       "      <td>Санкт-Петербург</td>\n",
       "      <td>2525</td>\n",
       "      <td>379</td>\n",
       "    </tr>\n",
       "    <tr>\n",
       "      <th>29</th>\n",
       "      <td>1</td>\n",
       "      <td>1-01-117</td>\n",
       "      <td>Санкт-Петербург</td>\n",
       "      <td>5512</td>\n",
       "      <td>721</td>\n",
       "    </tr>\n",
       "    <tr>\n",
       "      <th>30</th>\n",
       "      <td>1</td>\n",
       "      <td>1-01-211</td>\n",
       "      <td>Санкт-Петербург</td>\n",
       "      <td>0</td>\n",
       "      <td>23</td>\n",
       "    </tr>\n",
       "    <tr>\n",
       "      <th>31</th>\n",
       "      <td>1</td>\n",
       "      <td>1-01-203</td>\n",
       "      <td>Санкт-Петербург</td>\n",
       "      <td>0</td>\n",
       "      <td>36</td>\n",
       "    </tr>\n",
       "    <tr>\n",
       "      <th>32</th>\n",
       "      <td>1</td>\n",
       "      <td>1-01-171</td>\n",
       "      <td>Санкт-Петербург</td>\n",
       "      <td>3549</td>\n",
       "      <td>619</td>\n",
       "    </tr>\n",
       "  </tbody>\n",
       "</table>\n",
       "</div>"
      ],
      "text/plain": [
       "    period shops_code             town  incoming_people  buyers\n",
       "23       1   1-01-107  Санкт-Петербург             5001     576\n",
       "24       1   1-01-267  Санкт-Петербург             9072     773\n",
       "25       1   1-01-269  Санкт-Петербург             2152     116\n",
       "26       1   1-01-126  Санкт-Петербург             7264     939\n",
       "27       1   1-01-250  Санкт-Петербург             7793    1061\n",
       "28       1   1-01-236  Санкт-Петербург             2525     379\n",
       "29       1   1-01-117  Санкт-Петербург             5512     721\n",
       "30       1   1-01-211  Санкт-Петербург                0      23\n",
       "31       1   1-01-203  Санкт-Петербург                0      36\n",
       "32       1   1-01-171  Санкт-Петербург             3549     619"
      ]
     },
     "execution_count": 9,
     "metadata": {},
     "output_type": "execute_result"
    }
   ],
   "source": [
    "df_shops_SPb.head(10)"
   ]
  },
  {
   "cell_type": "markdown",
   "id": "3620bd49-9387-49f0-8962-b735d6ef7f97",
   "metadata": {},
   "source": [
    "Из представленных данных видно что есть магазины, в которых количество посетителей равно 0, хотя покупатели есть. Возможно какая-то ошибка в исходных данных. Такое по просту не может быть чтобы были покупатели, а атсутствовали посетители. Покупатели уже являются посетителями.\n",
    "\n",
    "---\n",
    "Возможные причины:\n",
    "- На этапе сбора данные не были зафиксированы.\n",
    "- В процессе форматирования данных часть из них потерялась.\n",
    "- Человеческий фактор.\n",
    "---\n",
    "Сейчас я принимаю решение исключить те магазины которые не соответствуют логике: количество посетителей равно 0, при присутствующих покупателях."
   ]
  },
  {
   "cell_type": "code",
   "execution_count": 10,
   "id": "34f55565-a98e-413a-a31d-07bf07584695",
   "metadata": {},
   "outputs": [],
   "source": [
    "df_shops_SPb = df_shops_SPb[df_shops_SPb.incoming_people != 0]"
   ]
  },
  {
   "cell_type": "markdown",
   "id": "41c33989-e736-4b57-996e-6c125ac98445",
   "metadata": {},
   "source": [
    "### Определение магазинов, работающих в обоих периодах."
   ]
  },
  {
   "cell_type": "markdown",
   "id": "19241d07-5aa6-4245-a24e-8e0430ad911a",
   "metadata": {},
   "source": [
    "Для каждого магазина необходимо определить что он точно был в 1 и втором периоде. Для этого посчитаю количествоа. Надо как то определить что этот магазин внодил в оба периода и не входил только в один из двух. Для этого сглуппирую данные по shops_code."
   ]
  },
  {
   "cell_type": "code",
   "execution_count": 11,
   "id": "f0603095-8c86-4c02-8bc2-5ef9a481d357",
   "metadata": {
    "scrolled": true
   },
   "outputs": [
    {
     "data": {
      "text/html": [
       "<div>\n",
       "<style scoped>\n",
       "    .dataframe tbody tr th:only-of-type {\n",
       "        vertical-align: middle;\n",
       "    }\n",
       "\n",
       "    .dataframe tbody tr th {\n",
       "        vertical-align: top;\n",
       "    }\n",
       "\n",
       "    .dataframe thead th {\n",
       "        text-align: right;\n",
       "    }\n",
       "</style>\n",
       "<table border=\"1\" class=\"dataframe\">\n",
       "  <thead>\n",
       "    <tr style=\"text-align: right;\">\n",
       "      <th></th>\n",
       "      <th>period</th>\n",
       "      <th>shops_code</th>\n",
       "      <th>town</th>\n",
       "      <th>incoming_people</th>\n",
       "      <th>buyers</th>\n",
       "    </tr>\n",
       "  </thead>\n",
       "  <tbody>\n",
       "    <tr>\n",
       "      <th>23</th>\n",
       "      <td>1</td>\n",
       "      <td>1-01-107</td>\n",
       "      <td>Санкт-Петербург</td>\n",
       "      <td>5001</td>\n",
       "      <td>576</td>\n",
       "    </tr>\n",
       "    <tr>\n",
       "      <th>24</th>\n",
       "      <td>1</td>\n",
       "      <td>1-01-267</td>\n",
       "      <td>Санкт-Петербург</td>\n",
       "      <td>9072</td>\n",
       "      <td>773</td>\n",
       "    </tr>\n",
       "    <tr>\n",
       "      <th>25</th>\n",
       "      <td>1</td>\n",
       "      <td>1-01-269</td>\n",
       "      <td>Санкт-Петербург</td>\n",
       "      <td>2152</td>\n",
       "      <td>116</td>\n",
       "    </tr>\n",
       "    <tr>\n",
       "      <th>26</th>\n",
       "      <td>1</td>\n",
       "      <td>1-01-126</td>\n",
       "      <td>Санкт-Петербург</td>\n",
       "      <td>7264</td>\n",
       "      <td>939</td>\n",
       "    </tr>\n",
       "    <tr>\n",
       "      <th>27</th>\n",
       "      <td>1</td>\n",
       "      <td>1-01-250</td>\n",
       "      <td>Санкт-Петербург</td>\n",
       "      <td>7793</td>\n",
       "      <td>1061</td>\n",
       "    </tr>\n",
       "    <tr>\n",
       "      <th>...</th>\n",
       "      <td>...</td>\n",
       "      <td>...</td>\n",
       "      <td>...</td>\n",
       "      <td>...</td>\n",
       "      <td>...</td>\n",
       "    </tr>\n",
       "    <tr>\n",
       "      <th>215</th>\n",
       "      <td>2</td>\n",
       "      <td>1-01-265</td>\n",
       "      <td>Санкт-Петербург</td>\n",
       "      <td>1787</td>\n",
       "      <td>348</td>\n",
       "    </tr>\n",
       "    <tr>\n",
       "      <th>216</th>\n",
       "      <td>2</td>\n",
       "      <td>1-01-223</td>\n",
       "      <td>Санкт-Петербург</td>\n",
       "      <td>2339</td>\n",
       "      <td>197</td>\n",
       "    </tr>\n",
       "    <tr>\n",
       "      <th>222</th>\n",
       "      <td>2</td>\n",
       "      <td>1-01-251</td>\n",
       "      <td>Санкт-Петербург</td>\n",
       "      <td>4672</td>\n",
       "      <td>478</td>\n",
       "    </tr>\n",
       "    <tr>\n",
       "      <th>223</th>\n",
       "      <td>2</td>\n",
       "      <td>1-01-162</td>\n",
       "      <td>Санкт-Петербург</td>\n",
       "      <td>2586</td>\n",
       "      <td>182</td>\n",
       "    </tr>\n",
       "    <tr>\n",
       "      <th>224</th>\n",
       "      <td>2</td>\n",
       "      <td>1-01-154</td>\n",
       "      <td>Санкт-Петербург</td>\n",
       "      <td>4144</td>\n",
       "      <td>331</td>\n",
       "    </tr>\n",
       "  </tbody>\n",
       "</table>\n",
       "<p>85 rows × 5 columns</p>\n",
       "</div>"
      ],
      "text/plain": [
       "     period shops_code             town  incoming_people  buyers\n",
       "23        1   1-01-107  Санкт-Петербург             5001     576\n",
       "24        1   1-01-267  Санкт-Петербург             9072     773\n",
       "25        1   1-01-269  Санкт-Петербург             2152     116\n",
       "26        1   1-01-126  Санкт-Петербург             7264     939\n",
       "27        1   1-01-250  Санкт-Петербург             7793    1061\n",
       "..      ...        ...              ...              ...     ...\n",
       "215       2   1-01-265  Санкт-Петербург             1787     348\n",
       "216       2   1-01-223  Санкт-Петербург             2339     197\n",
       "222       2   1-01-251  Санкт-Петербург             4672     478\n",
       "223       2   1-01-162  Санкт-Петербург             2586     182\n",
       "224       2   1-01-154  Санкт-Петербург             4144     331\n",
       "\n",
       "[85 rows x 5 columns]"
      ]
     },
     "execution_count": 11,
     "metadata": {},
     "output_type": "execute_result"
    }
   ],
   "source": [
    "df_shops_SPb"
   ]
  },
  {
   "cell_type": "code",
   "execution_count": 12,
   "id": "055be0e1-6fd8-482b-ae99-3fa1cb52927f",
   "metadata": {
    "scrolled": true
   },
   "outputs": [
    {
     "data": {
      "text/plain": [
       "44"
      ]
     },
     "execution_count": 12,
     "metadata": {},
     "output_type": "execute_result"
    }
   ],
   "source": [
    "len(df_shops_SPb.shops_code.unique())"
   ]
  },
  {
   "cell_type": "markdown",
   "id": "92e07a97-46ce-44fe-8596-38ccfd1b1870",
   "metadata": {},
   "source": [
    "В данных мы имеем всего 54 уникальных магазина, работающих в СПб. Это нам пригодится для проверки."
   ]
  },
  {
   "cell_type": "markdown",
   "id": "129941e6-5265-4c76-842f-5d6e91479644",
   "metadata": {},
   "source": [
    "Для фильтрации только тех магазинов, которые были как в первом и втором периоде проделаем следующее:\n",
    "- сгруппируем данные по уникальному названию магазина;\n",
    "- для каждого магазина сформируем списк уникальных периодов в которых он есть\n",
    "- отфильтруем список магазинов, оставиа только те которые работали одновременно в обоих периодах"
   ]
  },
  {
   "cell_type": "code",
   "execution_count": 13,
   "id": "d68b1214-c804-4b2c-8c6e-ac76a17911e6",
   "metadata": {},
   "outputs": [],
   "source": [
    "LFL_shops_SPb = df_shops_SPb.groupby('shops_code')['period'].unique().reset_index()\n",
    "list_LFL_shops_SPb = list(LFL_shops_SPb[LFL_shops_SPb['period'].apply(lambda x: set(x) == {1, 2})].shops_code)"
   ]
  },
  {
   "cell_type": "code",
   "execution_count": 14,
   "id": "34b8e873-7805-4b33-b955-63c9fd4545b5",
   "metadata": {},
   "outputs": [
    {
     "data": {
      "text/plain": [
       "['1-01-107', '1-01-117', '1-01-120', '1-01-122']"
      ]
     },
     "execution_count": 14,
     "metadata": {},
     "output_type": "execute_result"
    }
   ],
   "source": [
    "list_LFL_shops_SPb[:4]"
   ]
  },
  {
   "cell_type": "code",
   "execution_count": 15,
   "id": "bb5609ac-685e-48de-a797-185a869c6598",
   "metadata": {},
   "outputs": [
    {
     "data": {
      "text/plain": [
       "41"
      ]
     },
     "execution_count": 15,
     "metadata": {},
     "output_type": "execute_result"
    }
   ],
   "source": [
    "len(list_LFL_shops_SPb)"
   ]
  },
  {
   "cell_type": "markdown",
   "id": "fdd4c082-59e7-4934-95a5-5e850fdd6ce7",
   "metadata": {},
   "source": [
    "Исходя из полученных результатов, из 54 магазинов в Санкт-Петербурге в оба периода работало 51."
   ]
  },
  {
   "cell_type": "markdown",
   "id": "dd819e51-2605-4fbb-b8af-1ea87ea183ba",
   "metadata": {},
   "source": [
    "Сформируем итоговый датафрейм для дальнейших расчетов."
   ]
  },
  {
   "cell_type": "code",
   "execution_count": 16,
   "id": "e143ed5e-d0e4-4365-a956-f6380db95c5f",
   "metadata": {},
   "outputs": [
    {
     "data": {
      "text/html": [
       "<div>\n",
       "<style scoped>\n",
       "    .dataframe tbody tr th:only-of-type {\n",
       "        vertical-align: middle;\n",
       "    }\n",
       "\n",
       "    .dataframe tbody tr th {\n",
       "        vertical-align: top;\n",
       "    }\n",
       "\n",
       "    .dataframe thead th {\n",
       "        text-align: right;\n",
       "    }\n",
       "</style>\n",
       "<table border=\"1\" class=\"dataframe\">\n",
       "  <thead>\n",
       "    <tr style=\"text-align: right;\">\n",
       "      <th></th>\n",
       "      <th>period</th>\n",
       "      <th>shops_code</th>\n",
       "      <th>town</th>\n",
       "      <th>incoming_people</th>\n",
       "      <th>buyers</th>\n",
       "    </tr>\n",
       "  </thead>\n",
       "  <tbody>\n",
       "    <tr>\n",
       "      <th>23</th>\n",
       "      <td>1</td>\n",
       "      <td>1-01-107</td>\n",
       "      <td>Санкт-Петербург</td>\n",
       "      <td>5001</td>\n",
       "      <td>576</td>\n",
       "    </tr>\n",
       "    <tr>\n",
       "      <th>24</th>\n",
       "      <td>1</td>\n",
       "      <td>1-01-267</td>\n",
       "      <td>Санкт-Петербург</td>\n",
       "      <td>9072</td>\n",
       "      <td>773</td>\n",
       "    </tr>\n",
       "    <tr>\n",
       "      <th>25</th>\n",
       "      <td>1</td>\n",
       "      <td>1-01-269</td>\n",
       "      <td>Санкт-Петербург</td>\n",
       "      <td>2152</td>\n",
       "      <td>116</td>\n",
       "    </tr>\n",
       "    <tr>\n",
       "      <th>26</th>\n",
       "      <td>1</td>\n",
       "      <td>1-01-126</td>\n",
       "      <td>Санкт-Петербург</td>\n",
       "      <td>7264</td>\n",
       "      <td>939</td>\n",
       "    </tr>\n",
       "    <tr>\n",
       "      <th>27</th>\n",
       "      <td>1</td>\n",
       "      <td>1-01-250</td>\n",
       "      <td>Санкт-Петербург</td>\n",
       "      <td>7793</td>\n",
       "      <td>1061</td>\n",
       "    </tr>\n",
       "    <tr>\n",
       "      <th>...</th>\n",
       "      <td>...</td>\n",
       "      <td>...</td>\n",
       "      <td>...</td>\n",
       "      <td>...</td>\n",
       "      <td>...</td>\n",
       "    </tr>\n",
       "    <tr>\n",
       "      <th>215</th>\n",
       "      <td>2</td>\n",
       "      <td>1-01-265</td>\n",
       "      <td>Санкт-Петербург</td>\n",
       "      <td>1787</td>\n",
       "      <td>348</td>\n",
       "    </tr>\n",
       "    <tr>\n",
       "      <th>216</th>\n",
       "      <td>2</td>\n",
       "      <td>1-01-223</td>\n",
       "      <td>Санкт-Петербург</td>\n",
       "      <td>2339</td>\n",
       "      <td>197</td>\n",
       "    </tr>\n",
       "    <tr>\n",
       "      <th>222</th>\n",
       "      <td>2</td>\n",
       "      <td>1-01-251</td>\n",
       "      <td>Санкт-Петербург</td>\n",
       "      <td>4672</td>\n",
       "      <td>478</td>\n",
       "    </tr>\n",
       "    <tr>\n",
       "      <th>223</th>\n",
       "      <td>2</td>\n",
       "      <td>1-01-162</td>\n",
       "      <td>Санкт-Петербург</td>\n",
       "      <td>2586</td>\n",
       "      <td>182</td>\n",
       "    </tr>\n",
       "    <tr>\n",
       "      <th>224</th>\n",
       "      <td>2</td>\n",
       "      <td>1-01-154</td>\n",
       "      <td>Санкт-Петербург</td>\n",
       "      <td>4144</td>\n",
       "      <td>331</td>\n",
       "    </tr>\n",
       "  </tbody>\n",
       "</table>\n",
       "<p>82 rows × 5 columns</p>\n",
       "</div>"
      ],
      "text/plain": [
       "     period shops_code             town  incoming_people  buyers\n",
       "23        1   1-01-107  Санкт-Петербург             5001     576\n",
       "24        1   1-01-267  Санкт-Петербург             9072     773\n",
       "25        1   1-01-269  Санкт-Петербург             2152     116\n",
       "26        1   1-01-126  Санкт-Петербург             7264     939\n",
       "27        1   1-01-250  Санкт-Петербург             7793    1061\n",
       "..      ...        ...              ...              ...     ...\n",
       "215       2   1-01-265  Санкт-Петербург             1787     348\n",
       "216       2   1-01-223  Санкт-Петербург             2339     197\n",
       "222       2   1-01-251  Санкт-Петербург             4672     478\n",
       "223       2   1-01-162  Санкт-Петербург             2586     182\n",
       "224       2   1-01-154  Санкт-Петербург             4144     331\n",
       "\n",
       "[82 rows x 5 columns]"
      ]
     },
     "execution_count": 16,
     "metadata": {},
     "output_type": "execute_result"
    }
   ],
   "source": [
    "LFL_shops_SPb = df_shops_SPb[df_shops_SPb.shops_code.isin(list_LFL_shops_SPb)]\n",
    "LFL_shops_SPb"
   ]
  },
  {
   "cell_type": "markdown",
   "id": "d2410ae1-72cc-4879-8d1e-36a462332cdf",
   "metadata": {},
   "source": [
    "### Проверка на повтояемость."
   ]
  },
  {
   "cell_type": "code",
   "execution_count": 17,
   "id": "ea3805ba-90f3-4919-9005-8d25990da3bc",
   "metadata": {},
   "outputs": [
    {
     "data": {
      "text/plain": [
       "41"
      ]
     },
     "execution_count": 17,
     "metadata": {},
     "output_type": "execute_result"
    }
   ],
   "source": [
    "len(LFL_shops_SPb[LFL_shops_SPb.period == 1]['shops_code'].unique())"
   ]
  },
  {
   "cell_type": "code",
   "execution_count": 18,
   "id": "09078b23-987c-4798-9751-6f1ee1d2d268",
   "metadata": {},
   "outputs": [
    {
     "data": {
      "text/plain": [
       "41"
      ]
     },
     "execution_count": 18,
     "metadata": {},
     "output_type": "execute_result"
    }
   ],
   "source": [
    "len(LFL_shops_SPb[LFL_shops_SPb.period == 2]['shops_code'].unique())"
   ]
  },
  {
   "cell_type": "markdown",
   "id": "00528115-72a4-4285-b799-e7d6dda23939",
   "metadata": {},
   "source": [
    "По результату получены необходимые данные: магазины только из города Санкт-Петербурга, работающие только в оба периода."
   ]
  },
  {
   "cell_type": "markdown",
   "id": "839bfcf6-3100-4fef-a115-d8442978d93c",
   "metadata": {},
   "source": [
    "# Найти конверсию каждого магазина за оба периода."
   ]
  },
  {
   "cell_type": "markdown",
   "id": "be19af3e-3ce9-4466-a656-566286151747",
   "metadata": {},
   "source": [
    "Для этого необходимо:\n",
    "- сгруппировать по периоду, магазину;\n",
    "- посчитать конверию\n",
    "\n",
    "Разделю DF на периоды."
   ]
  },
  {
   "cell_type": "code",
   "execution_count": 19,
   "id": "77201ee8-74c7-4e60-8f9f-cd729e5b1625",
   "metadata": {},
   "outputs": [],
   "source": [
    "LFL_shops_SPb_01 = LFL_shops_SPb[LFL_shops_SPb.period == 1][['shops_code', 'incoming_people', 'buyers']]\n",
    "LFL_shops_SPb_02 = LFL_shops_SPb[LFL_shops_SPb.period == 2][['shops_code', 'incoming_people', 'buyers']]"
   ]
  },
  {
   "cell_type": "code",
   "execution_count": 20,
   "id": "4733c5c4-5f93-4d79-b2e8-297c3c810131",
   "metadata": {},
   "outputs": [
    {
     "data": {
      "text/html": [
       "<div>\n",
       "<style scoped>\n",
       "    .dataframe tbody tr th:only-of-type {\n",
       "        vertical-align: middle;\n",
       "    }\n",
       "\n",
       "    .dataframe tbody tr th {\n",
       "        vertical-align: top;\n",
       "    }\n",
       "\n",
       "    .dataframe thead th {\n",
       "        text-align: right;\n",
       "    }\n",
       "</style>\n",
       "<table border=\"1\" class=\"dataframe\">\n",
       "  <thead>\n",
       "    <tr style=\"text-align: right;\">\n",
       "      <th></th>\n",
       "      <th>shops_code</th>\n",
       "      <th>incoming_people</th>\n",
       "      <th>buyers</th>\n",
       "    </tr>\n",
       "  </thead>\n",
       "  <tbody>\n",
       "    <tr>\n",
       "      <th>23</th>\n",
       "      <td>1-01-107</td>\n",
       "      <td>5001</td>\n",
       "      <td>576</td>\n",
       "    </tr>\n",
       "    <tr>\n",
       "      <th>24</th>\n",
       "      <td>1-01-267</td>\n",
       "      <td>9072</td>\n",
       "      <td>773</td>\n",
       "    </tr>\n",
       "    <tr>\n",
       "      <th>25</th>\n",
       "      <td>1-01-269</td>\n",
       "      <td>2152</td>\n",
       "      <td>116</td>\n",
       "    </tr>\n",
       "    <tr>\n",
       "      <th>26</th>\n",
       "      <td>1-01-126</td>\n",
       "      <td>7264</td>\n",
       "      <td>939</td>\n",
       "    </tr>\n",
       "    <tr>\n",
       "      <th>27</th>\n",
       "      <td>1-01-250</td>\n",
       "      <td>7793</td>\n",
       "      <td>1061</td>\n",
       "    </tr>\n",
       "  </tbody>\n",
       "</table>\n",
       "</div>"
      ],
      "text/plain": [
       "   shops_code  incoming_people  buyers\n",
       "23   1-01-107             5001     576\n",
       "24   1-01-267             9072     773\n",
       "25   1-01-269             2152     116\n",
       "26   1-01-126             7264     939\n",
       "27   1-01-250             7793    1061"
      ]
     },
     "execution_count": 20,
     "metadata": {},
     "output_type": "execute_result"
    }
   ],
   "source": [
    "LFL_shops_SPb_01.head()"
   ]
  },
  {
   "cell_type": "code",
   "execution_count": 21,
   "id": "5970c7b7-fecc-464b-aa26-5088cfc11601",
   "metadata": {
    "scrolled": true
   },
   "outputs": [],
   "source": [
    "gr_01 = LFL_shops_SPb_01.groupby(['shops_code']) \\\n",
    ".agg(\n",
    "    incoming_people=('incoming_people', 'sum'),\n",
    "    buyers=('buyers', 'sum'),\n",
    "    conversion=('buyers', lambda x: (x.sum() / LFL_shops_SPb_01.loc[x.index, 'incoming_people'].sum() * 100)\n",
    "               )\n",
    "    ) \\\n",
    ".round(2) \\\n",
    ".reset_index()"
   ]
  },
  {
   "cell_type": "code",
   "execution_count": 40,
   "id": "02e8726f-ee70-4d93-8f5e-80c886b8e19d",
   "metadata": {},
   "outputs": [],
   "source": [
    "gr_02 = LFL_shops_SPb_02.groupby(['shops_code']) \\\n",
    ".agg(\n",
    "    incoming_people=('incoming_people', 'sum'),\n",
    "    buyers=('buyers', 'sum'),\n",
    "    conversion=('buyers', lambda x: (x.sum() / LFL_shops_SPb_02.loc[x.index, 'incoming_people'].sum() * 100)\n",
    "               )\n",
    "    ) \\\n",
    ".round(2) \\\n",
    ".reset_index()"
   ]
  },
  {
   "cell_type": "code",
   "execution_count": 29,
   "id": "b12b8f4f-1f8c-405a-a068-67468f7e696a",
   "metadata": {},
   "outputs": [
    {
     "data": {
      "text/html": [
       "<div>\n",
       "<style scoped>\n",
       "    .dataframe tbody tr th:only-of-type {\n",
       "        vertical-align: middle;\n",
       "    }\n",
       "\n",
       "    .dataframe tbody tr th {\n",
       "        vertical-align: top;\n",
       "    }\n",
       "\n",
       "    .dataframe thead th {\n",
       "        text-align: right;\n",
       "    }\n",
       "</style>\n",
       "<table border=\"1\" class=\"dataframe\">\n",
       "  <thead>\n",
       "    <tr style=\"text-align: right;\">\n",
       "      <th></th>\n",
       "      <th>shops_code</th>\n",
       "      <th>incoming_people</th>\n",
       "      <th>buyers</th>\n",
       "      <th>conversion</th>\n",
       "    </tr>\n",
       "  </thead>\n",
       "  <tbody>\n",
       "    <tr>\n",
       "      <th>0</th>\n",
       "      <td>1-01-107</td>\n",
       "      <td>5001</td>\n",
       "      <td>576</td>\n",
       "      <td>11.52</td>\n",
       "    </tr>\n",
       "    <tr>\n",
       "      <th>1</th>\n",
       "      <td>1-01-117</td>\n",
       "      <td>5512</td>\n",
       "      <td>721</td>\n",
       "      <td>13.08</td>\n",
       "    </tr>\n",
       "    <tr>\n",
       "      <th>2</th>\n",
       "      <td>1-01-120</td>\n",
       "      <td>2880</td>\n",
       "      <td>402</td>\n",
       "      <td>13.96</td>\n",
       "    </tr>\n",
       "    <tr>\n",
       "      <th>3</th>\n",
       "      <td>1-01-122</td>\n",
       "      <td>6450</td>\n",
       "      <td>740</td>\n",
       "      <td>11.47</td>\n",
       "    </tr>\n",
       "    <tr>\n",
       "      <th>4</th>\n",
       "      <td>1-01-126</td>\n",
       "      <td>7264</td>\n",
       "      <td>939</td>\n",
       "      <td>12.93</td>\n",
       "    </tr>\n",
       "  </tbody>\n",
       "</table>\n",
       "</div>"
      ],
      "text/plain": [
       "  shops_code  incoming_people  buyers  conversion\n",
       "0   1-01-107             5001     576       11.52\n",
       "1   1-01-117             5512     721       13.08\n",
       "2   1-01-120             2880     402       13.96\n",
       "3   1-01-122             6450     740       11.47\n",
       "4   1-01-126             7264     939       12.93"
      ]
     },
     "execution_count": 29,
     "metadata": {},
     "output_type": "execute_result"
    }
   ],
   "source": [
    "gr_01.head()"
   ]
  },
  {
   "cell_type": "code",
   "execution_count": 37,
   "id": "23fd4014-817a-4fa7-80e8-03cdab162e1e",
   "metadata": {
    "scrolled": true
   },
   "outputs": [
    {
     "data": {
      "text/html": [
       "<div>\n",
       "<style scoped>\n",
       "    .dataframe tbody tr th:only-of-type {\n",
       "        vertical-align: middle;\n",
       "    }\n",
       "\n",
       "    .dataframe tbody tr th {\n",
       "        vertical-align: top;\n",
       "    }\n",
       "\n",
       "    .dataframe thead th {\n",
       "        text-align: right;\n",
       "    }\n",
       "</style>\n",
       "<table border=\"1\" class=\"dataframe\">\n",
       "  <thead>\n",
       "    <tr style=\"text-align: right;\">\n",
       "      <th></th>\n",
       "      <th>shops_code</th>\n",
       "      <th>conversion_x</th>\n",
       "      <th>conversion_y</th>\n",
       "    </tr>\n",
       "  </thead>\n",
       "  <tbody>\n",
       "    <tr>\n",
       "      <th>0</th>\n",
       "      <td>1-01-107</td>\n",
       "      <td>11.52</td>\n",
       "      <td>10.32</td>\n",
       "    </tr>\n",
       "    <tr>\n",
       "      <th>1</th>\n",
       "      <td>1-01-117</td>\n",
       "      <td>13.08</td>\n",
       "      <td>12.25</td>\n",
       "    </tr>\n",
       "    <tr>\n",
       "      <th>2</th>\n",
       "      <td>1-01-120</td>\n",
       "      <td>13.96</td>\n",
       "      <td>10.06</td>\n",
       "    </tr>\n",
       "    <tr>\n",
       "      <th>3</th>\n",
       "      <td>1-01-122</td>\n",
       "      <td>11.47</td>\n",
       "      <td>9.74</td>\n",
       "    </tr>\n",
       "    <tr>\n",
       "      <th>4</th>\n",
       "      <td>1-01-126</td>\n",
       "      <td>12.93</td>\n",
       "      <td>11.25</td>\n",
       "    </tr>\n",
       "    <tr>\n",
       "      <th>5</th>\n",
       "      <td>1-01-127</td>\n",
       "      <td>7.96</td>\n",
       "      <td>7.12</td>\n",
       "    </tr>\n",
       "    <tr>\n",
       "      <th>6</th>\n",
       "      <td>1-01-134</td>\n",
       "      <td>15.08</td>\n",
       "      <td>11.94</td>\n",
       "    </tr>\n",
       "    <tr>\n",
       "      <th>7</th>\n",
       "      <td>1-01-137</td>\n",
       "      <td>14.14</td>\n",
       "      <td>13.53</td>\n",
       "    </tr>\n",
       "    <tr>\n",
       "      <th>8</th>\n",
       "      <td>1-01-146</td>\n",
       "      <td>10.57</td>\n",
       "      <td>8.15</td>\n",
       "    </tr>\n",
       "    <tr>\n",
       "      <th>9</th>\n",
       "      <td>1-01-153</td>\n",
       "      <td>12.00</td>\n",
       "      <td>12.00</td>\n",
       "    </tr>\n",
       "    <tr>\n",
       "      <th>10</th>\n",
       "      <td>1-01-154</td>\n",
       "      <td>13.02</td>\n",
       "      <td>7.99</td>\n",
       "    </tr>\n",
       "    <tr>\n",
       "      <th>11</th>\n",
       "      <td>1-01-162</td>\n",
       "      <td>10.13</td>\n",
       "      <td>7.04</td>\n",
       "    </tr>\n",
       "    <tr>\n",
       "      <th>12</th>\n",
       "      <td>1-01-163</td>\n",
       "      <td>15.22</td>\n",
       "      <td>14.44</td>\n",
       "    </tr>\n",
       "    <tr>\n",
       "      <th>13</th>\n",
       "      <td>1-01-171</td>\n",
       "      <td>17.44</td>\n",
       "      <td>15.58</td>\n",
       "    </tr>\n",
       "    <tr>\n",
       "      <th>14</th>\n",
       "      <td>1-01-172</td>\n",
       "      <td>9.36</td>\n",
       "      <td>7.67</td>\n",
       "    </tr>\n",
       "    <tr>\n",
       "      <th>15</th>\n",
       "      <td>1-01-187</td>\n",
       "      <td>20.40</td>\n",
       "      <td>14.86</td>\n",
       "    </tr>\n",
       "    <tr>\n",
       "      <th>16</th>\n",
       "      <td>1-01-192</td>\n",
       "      <td>11.84</td>\n",
       "      <td>8.45</td>\n",
       "    </tr>\n",
       "    <tr>\n",
       "      <th>17</th>\n",
       "      <td>1-01-223</td>\n",
       "      <td>9.61</td>\n",
       "      <td>8.42</td>\n",
       "    </tr>\n",
       "    <tr>\n",
       "      <th>18</th>\n",
       "      <td>1-01-236</td>\n",
       "      <td>15.01</td>\n",
       "      <td>13.52</td>\n",
       "    </tr>\n",
       "    <tr>\n",
       "      <th>19</th>\n",
       "      <td>1-01-237</td>\n",
       "      <td>12.39</td>\n",
       "      <td>11.34</td>\n",
       "    </tr>\n",
       "    <tr>\n",
       "      <th>20</th>\n",
       "      <td>1-01-239</td>\n",
       "      <td>16.30</td>\n",
       "      <td>13.66</td>\n",
       "    </tr>\n",
       "    <tr>\n",
       "      <th>21</th>\n",
       "      <td>1-01-243</td>\n",
       "      <td>7.29</td>\n",
       "      <td>6.18</td>\n",
       "    </tr>\n",
       "    <tr>\n",
       "      <th>22</th>\n",
       "      <td>1-01-244</td>\n",
       "      <td>13.75</td>\n",
       "      <td>12.88</td>\n",
       "    </tr>\n",
       "    <tr>\n",
       "      <th>23</th>\n",
       "      <td>1-01-245</td>\n",
       "      <td>13.76</td>\n",
       "      <td>11.59</td>\n",
       "    </tr>\n",
       "    <tr>\n",
       "      <th>24</th>\n",
       "      <td>1-01-246</td>\n",
       "      <td>14.91</td>\n",
       "      <td>11.18</td>\n",
       "    </tr>\n",
       "    <tr>\n",
       "      <th>25</th>\n",
       "      <td>1-01-247</td>\n",
       "      <td>12.06</td>\n",
       "      <td>9.77</td>\n",
       "    </tr>\n",
       "    <tr>\n",
       "      <th>26</th>\n",
       "      <td>1-01-248</td>\n",
       "      <td>12.93</td>\n",
       "      <td>10.71</td>\n",
       "    </tr>\n",
       "    <tr>\n",
       "      <th>27</th>\n",
       "      <td>1-01-249</td>\n",
       "      <td>13.82</td>\n",
       "      <td>11.89</td>\n",
       "    </tr>\n",
       "    <tr>\n",
       "      <th>28</th>\n",
       "      <td>1-01-250</td>\n",
       "      <td>13.61</td>\n",
       "      <td>13.35</td>\n",
       "    </tr>\n",
       "    <tr>\n",
       "      <th>29</th>\n",
       "      <td>1-01-251</td>\n",
       "      <td>13.72</td>\n",
       "      <td>10.23</td>\n",
       "    </tr>\n",
       "    <tr>\n",
       "      <th>30</th>\n",
       "      <td>1-01-255</td>\n",
       "      <td>9.08</td>\n",
       "      <td>9.03</td>\n",
       "    </tr>\n",
       "    <tr>\n",
       "      <th>31</th>\n",
       "      <td>1-01-261</td>\n",
       "      <td>14.13</td>\n",
       "      <td>10.93</td>\n",
       "    </tr>\n",
       "    <tr>\n",
       "      <th>32</th>\n",
       "      <td>1-01-262</td>\n",
       "      <td>8.35</td>\n",
       "      <td>8.39</td>\n",
       "    </tr>\n",
       "    <tr>\n",
       "      <th>33</th>\n",
       "      <td>1-01-264</td>\n",
       "      <td>12.37</td>\n",
       "      <td>10.60</td>\n",
       "    </tr>\n",
       "    <tr>\n",
       "      <th>34</th>\n",
       "      <td>1-01-265</td>\n",
       "      <td>16.67</td>\n",
       "      <td>19.47</td>\n",
       "    </tr>\n",
       "    <tr>\n",
       "      <th>35</th>\n",
       "      <td>1-01-266</td>\n",
       "      <td>13.17</td>\n",
       "      <td>8.51</td>\n",
       "    </tr>\n",
       "    <tr>\n",
       "      <th>36</th>\n",
       "      <td>1-01-267</td>\n",
       "      <td>8.52</td>\n",
       "      <td>8.57</td>\n",
       "    </tr>\n",
       "    <tr>\n",
       "      <th>37</th>\n",
       "      <td>1-01-269</td>\n",
       "      <td>5.39</td>\n",
       "      <td>3.16</td>\n",
       "    </tr>\n",
       "    <tr>\n",
       "      <th>38</th>\n",
       "      <td>1-01-270</td>\n",
       "      <td>14.84</td>\n",
       "      <td>11.88</td>\n",
       "    </tr>\n",
       "    <tr>\n",
       "      <th>39</th>\n",
       "      <td>1-01-273</td>\n",
       "      <td>12.75</td>\n",
       "      <td>10.41</td>\n",
       "    </tr>\n",
       "    <tr>\n",
       "      <th>40</th>\n",
       "      <td>1-04-004</td>\n",
       "      <td>7.31</td>\n",
       "      <td>6.43</td>\n",
       "    </tr>\n",
       "  </tbody>\n",
       "</table>\n",
       "</div>"
      ],
      "text/plain": [
       "   shops_code  conversion_x  conversion_y\n",
       "0    1-01-107         11.52         10.32\n",
       "1    1-01-117         13.08         12.25\n",
       "2    1-01-120         13.96         10.06\n",
       "3    1-01-122         11.47          9.74\n",
       "4    1-01-126         12.93         11.25\n",
       "5    1-01-127          7.96          7.12\n",
       "6    1-01-134         15.08         11.94\n",
       "7    1-01-137         14.14         13.53\n",
       "8    1-01-146         10.57          8.15\n",
       "9    1-01-153         12.00         12.00\n",
       "10   1-01-154         13.02          7.99\n",
       "11   1-01-162         10.13          7.04\n",
       "12   1-01-163         15.22         14.44\n",
       "13   1-01-171         17.44         15.58\n",
       "14   1-01-172          9.36          7.67\n",
       "15   1-01-187         20.40         14.86\n",
       "16   1-01-192         11.84          8.45\n",
       "17   1-01-223          9.61          8.42\n",
       "18   1-01-236         15.01         13.52\n",
       "19   1-01-237         12.39         11.34\n",
       "20   1-01-239         16.30         13.66\n",
       "21   1-01-243          7.29          6.18\n",
       "22   1-01-244         13.75         12.88\n",
       "23   1-01-245         13.76         11.59\n",
       "24   1-01-246         14.91         11.18\n",
       "25   1-01-247         12.06          9.77\n",
       "26   1-01-248         12.93         10.71\n",
       "27   1-01-249         13.82         11.89\n",
       "28   1-01-250         13.61         13.35\n",
       "29   1-01-251         13.72         10.23\n",
       "30   1-01-255          9.08          9.03\n",
       "31   1-01-261         14.13         10.93\n",
       "32   1-01-262          8.35          8.39\n",
       "33   1-01-264         12.37         10.60\n",
       "34   1-01-265         16.67         19.47\n",
       "35   1-01-266         13.17          8.51\n",
       "36   1-01-267          8.52          8.57\n",
       "37   1-01-269          5.39          3.16\n",
       "38   1-01-270         14.84         11.88\n",
       "39   1-01-273         12.75         10.41\n",
       "40   1-04-004          7.31          6.43"
      ]
     },
     "execution_count": 37,
     "metadata": {},
     "output_type": "execute_result"
    }
   ],
   "source": [
    "pd.merge(gr_01, gr_02, on='shops_code', how='inner')[['shops_code', 'conversion_x', 'conversion_y']]"
   ]
  },
  {
   "cell_type": "code",
   "execution_count": 47,
   "id": "323eb8e4-0723-41dc-bb0b-ed1676e0a735",
   "metadata": {},
   "outputs": [
    {
     "name": "stdout",
     "output_type": "stream",
     "text": [
      "12.484390243902439\n"
     ]
    }
   ],
   "source": [
    "conversion_gr_01 = (gr_01.conversion.sum() / gr_01.shops_code.count())\n",
    "print(conversion_gr_01)"
   ]
  },
  {
   "cell_type": "code",
   "execution_count": 48,
   "id": "73463d78-9d65-460e-a71e-e70b8ed5142d",
   "metadata": {},
   "outputs": [
    {
     "name": "stdout",
     "output_type": "stream",
     "text": [
      "10.597317073170732\n"
     ]
    }
   ],
   "source": [
    "conversion_gr_02 = (gr_02.conversion.sum() / gr_02.shops_code.count())\n",
    "print(conversion_gr_02)"
   ]
  },
  {
   "cell_type": "code",
   "execution_count": 60,
   "id": "e76234ae-593a-4699-8464-973cb5679d42",
   "metadata": {},
   "outputs": [
    {
     "name": "stdout",
     "output_type": "stream",
     "text": [
      "Разница между конверсией второго и первого периода составляет -1.89%. \n",
      "Что говорит о том что магазины стали более убыточны во втором периоде времени.\n"
     ]
    }
   ],
   "source": [
    "difference_convertion = (conversion_gr_02 - conversion_gr_01).round(2)\n",
    "print(f'''Разница между конверсией второго и первого периода составляет {difference_convertion}%. \n",
    "Что говорит о том что магазины стали более убыточны во втором периоде времени.''')"
   ]
  },
  {
   "cell_type": "code",
   "execution_count": null,
   "id": "8f52992a-ed8b-4a36-b84b-843d8820555a",
   "metadata": {},
   "outputs": [],
   "source": []
  }
 ],
 "metadata": {
  "kernelspec": {
   "display_name": "Python 3 (ipykernel)",
   "language": "python",
   "name": "python3"
  },
  "language_info": {
   "codemirror_mode": {
    "name": "ipython",
    "version": 3
   },
   "file_extension": ".py",
   "mimetype": "text/x-python",
   "name": "python",
   "nbconvert_exporter": "python",
   "pygments_lexer": "ipython3",
   "version": "3.13.2"
  }
 },
 "nbformat": 4,
 "nbformat_minor": 5
}
